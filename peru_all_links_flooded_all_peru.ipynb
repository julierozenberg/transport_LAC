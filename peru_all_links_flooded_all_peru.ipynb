{
 "cells": [
  {
   "cell_type": "code",
   "execution_count": 1,
   "metadata": {
    "collapsed": false
   },
   "outputs": [
    {
     "name": "stderr",
     "output_type": "stream",
     "text": [
      "Vendor:  Continuum Analytics, Inc.\n",
      "Package: mkl\n",
      "Message: trial mode expires in 13 days\n"
     ]
    }
   ],
   "source": [
    "from pandas import read_csv,DataFrame,read_excel, merge,concat, Series\n",
    "import os\n",
    "import re\n",
    "import numpy as np\n",
    "import matplotlib.pyplot as plt\n",
    "%matplotlib inline\n",
    "from scipy.stats import gaussian_kde\n",
    "from scipy.stats import gaussian_kde\n",
    "from mpl_toolkits.axes_grid1 import make_axes_locatable\n",
    "\n",
    "%load_ext autoreload\n",
    "%autoreload\n",
    "from functions_economic_analysis import *"
   ]
  },
  {
   "cell_type": "code",
   "execution_count": 3,
   "metadata": {
    "collapsed": false
   },
   "outputs": [],
   "source": [
    "datacsv          = \"peru_all_links_floods/\"\n",
    "data_peru        = \"country_data/\"\n",
    "list_csv         = os.listdir(datacsv)"
   ]
  },
  {
   "cell_type": "code",
   "execution_count": 39,
   "metadata": {
    "collapsed": false
   },
   "outputs": [],
   "source": [
    "baseline = read_csv(datacsv+\"OD_baseline_Peru.csv\")\n",
    "baseline.index = baseline.Name\n",
    "baseline[\"O\"] = baseline.Name.apply(lambda s: re.search(\"(.*) - (.*)\",s).group(1))\n",
    "baseline[\"D\"] = baseline.Name.apply(lambda s: re.search(\"(.*) - (.*)\",s).group(2))"
   ]
  },
  {
   "cell_type": "markdown",
   "metadata": {},
   "source": [
    "### calculates weights for each node"
   ]
  },
  {
   "cell_type": "code",
   "execution_count": 40,
   "metadata": {
    "collapsed": false
   },
   "outputs": [],
   "source": [
    "nodes1 = read_excel(data_peru+\"NODE_CID.xlsx\",\"NODES_CID\")\n",
    "nodes2 = read_excel(data_peru+\"NODES_10km_TPDA.xlsx\",\"NODES_10km_TPDA\")\n",
    "\n",
    "nodes = merge(nodes1, nodes2, on='CID', how='outer')"
   ]
  },
  {
   "cell_type": "markdown",
   "metadata": {},
   "source": [
    "#### the function below calculates the weight of a OD pair based on the gravity model"
   ]
  },
  {
   "cell_type": "code",
   "execution_count": 41,
   "metadata": {
    "collapsed": true
   },
   "outputs": [],
   "source": [
    "baseline[\"Ot\"] = baseline.O.replace(nodes.set_index('CID').Sum_TPDA)\n",
    "baseline[\"Dt\"] = baseline.D.replace(nodes.set_index('CID').Sum_TPDA)\n",
    "baseline[\"Opop\"] = baseline.O.replace(nodes.set_index('CID')[\"Population Headcount\"])\n",
    "baseline[\"Dpop\"] = baseline.D.replace(nodes.set_index('CID')[\"Population Headcount\"])"
   ]
  },
  {
   "cell_type": "markdown",
   "metadata": {},
   "source": [
    "#### here we calculate losses for each scenario"
   ]
  },
  {
   "cell_type": "code",
   "execution_count": 42,
   "metadata": {
    "collapsed": false
   },
   "outputs": [],
   "source": [
    "baseline.ix[baseline.Total_KM!=0,'weights']=baseline.ix[baseline.Total_KM!=0,'Ot']\\\n",
    "                                            *baseline.ix[baseline.Total_KM!=0,'Dt']\\\n",
    "                                            /baseline.ix[baseline.Total_KM!=0,'Total_KM']**2\n",
    "baseline.weights.fillna(0,inplace=True)"
   ]
  },
  {
   "cell_type": "code",
   "execution_count": 43,
   "metadata": {
    "collapsed": false
   },
   "outputs": [],
   "source": [
    "info_links = read_excel(data_peru+\"Traffic_Link_Final_PER_jun03.xlsx\",\"Traffic_Link_Final\")\n",
    "#info_links = read_excel(datacsv+\"allinfo.xlsx\",\"Traffic_Link_AllInfo\")"
   ]
  },
  {
   "cell_type": "code",
   "execution_count": 44,
   "metadata": {
    "collapsed": false
   },
   "outputs": [],
   "source": [
    "info_links = info_links.set_index(\"ScenarioID\")"
   ]
  },
  {
   "cell_type": "code",
   "execution_count": 45,
   "metadata": {
    "collapsed": false
   },
   "outputs": [
    {
     "name": "stderr",
     "output_type": "stream",
     "text": [
      "C:\\Miniconda3\\lib\\site-packages\\IPython\\kernel\\__main__.py:24: SettingWithCopyWarning: \n",
      "A value is trying to be set on a copy of a slice from a DataFrame.\n",
      "Try using .loc[row_indexer,col_indexer] = value instead\n",
      "\n",
      "See the the caveats in the documentation: http://pandas.pydata.org/pandas-docs/stable/indexing.html#indexing-view-versus-copy\n"
     ]
    }
   ],
   "source": [
    "if os.path.exists(\"costs_peru_basin_all.csv\"):\n",
    "    costs_all = read_csv(\"costs_peru_basin_all.csv\")\n",
    "else:\n",
    "    costs_all = DataFrame(columns=[\"model\",\"th\",\"rp\",\"ruc_increase\",\"missingroutes\",\\\n",
    "                               \"num_aff_routes\",\"km_diff\"])\n",
    "    for file in list_csv:\n",
    "        if \".csv\" not in file:\n",
    "            continue\n",
    "        if file==\"OD_baseline_Peru.csv\":\n",
    "            continue\n",
    "        \n",
    "        model   = file.split(\"Peru\")[0][:-3]\n",
    "        th      = float(file.split(\"Peru\")[0][-3:-1])\n",
    "        rp      = float(file.split(\"Peru\")[1].replace(\"_rp\",\"\").replace(\".csv\",\"\"))\n",
    "        \n",
    "        scenar = read_csv(datacsv+file)\n",
    "        scenar.index = scenar.Name\n",
    "        \n",
    "        missingroutes = len(baseline)-len(scenar)\n",
    "        # we do not take into account the routes that don't have a second best solution\n",
    "        baseline_nm = baseline.ix[[i in scenar.index for i in baseline.index],:]\n",
    "        # we select only routes that get affected by the disruption\n",
    "        affected_routes = (np.round(scenar.Total_Ta_r/baseline_nm.Total_Ta_r,3)!=1)&(baseline_nm.Total_Ta_r>0)\n",
    "        subscenar = scenar.ix[affected_routes,:]\n",
    "        subscenar[\"weights\"] = baseline_nm.weights\n",
    "            \n",
    "        diff_ruc_baseline   = (subscenar.Total_Ta_r-\\\n",
    "                               baseline_nm.ix[affected_routes,\"Total_Ta_r\"])\n",
    "        diff_km_from_baseline = (subscenar.Total_KM-baseline_nm.ix[affected_routes,\"Total_KM\"])\n",
    "        \n",
    "        ruc_increase      = np.sum(diff_ruc_baseline*subscenar.weights)/subscenar.weights.sum()\n",
    "        km_diff = np.sum(diff_km_from_baseline*subscenar.weights)/subscenar.weights.sum()\n",
    "\n",
    "        costs_all.loc[len(costs_all),:] = [model,th,rp,\\\n",
    "                                           ruc_increase,missingroutes,sum(affected_routes),\\\n",
    "                                           km_diff]\n",
    "\n",
    "    #costs_all.to_csv(\"costs_peru_basin_clusters.csv\",index=False)"
   ]
  },
  {
   "cell_type": "code",
   "execution_count": 47,
   "metadata": {
    "collapsed": false
   },
   "outputs": [
    {
     "name": "stdout",
     "output_type": "stream",
     "text": [
      "The autoreload extension is already loaded. To reload it, use:\n",
      "  %reload_ext autoreload\n"
     ]
    }
   ],
   "source": [
    "%load_ext autoreload\n",
    "%autoreload\n",
    "from functions_economic_analysis_el_nino import *"
   ]
  },
  {
   "cell_type": "code",
   "execution_count": 46,
   "metadata": {
    "collapsed": false
   },
   "outputs": [
    {
     "data": {
      "text/html": [
       "<div style=\"max-height:1000px;max-width:1500px;overflow:auto;\">\n",
       "<table border=\"1\" class=\"dataframe\">\n",
       "  <thead>\n",
       "    <tr style=\"text-align: right;\">\n",
       "      <th></th>\n",
       "      <th>ruc_increase</th>\n",
       "      <th>missingroutes</th>\n",
       "      <th>num_aff_routes</th>\n",
       "      <th>km_diff</th>\n",
       "    </tr>\n",
       "  </thead>\n",
       "  <tbody>\n",
       "    <tr>\n",
       "      <th>1</th>\n",
       "      <td>206.1362</td>\n",
       "      <td>7479</td>\n",
       "      <td>586</td>\n",
       "      <td>138.4038</td>\n",
       "    </tr>\n",
       "    <tr>\n",
       "      <th>9</th>\n",
       "      <td>189.9739</td>\n",
       "      <td>7303</td>\n",
       "      <td>742</td>\n",
       "      <td>128.2452</td>\n",
       "    </tr>\n",
       "    <tr>\n",
       "      <th>17</th>\n",
       "      <td>215.7126</td>\n",
       "      <td>6377</td>\n",
       "      <td>1618</td>\n",
       "      <td>143.4449</td>\n",
       "    </tr>\n",
       "    <tr>\n",
       "      <th>25</th>\n",
       "      <td>186.1467</td>\n",
       "      <td>6203</td>\n",
       "      <td>1790</td>\n",
       "      <td>124.9523</td>\n",
       "    </tr>\n",
       "    <tr>\n",
       "      <th>33</th>\n",
       "      <td>232.2653</td>\n",
       "      <td>4638</td>\n",
       "      <td>3310</td>\n",
       "      <td>152.1786</td>\n",
       "    </tr>\n",
       "    <tr>\n",
       "      <th>41</th>\n",
       "      <td>192.3801</td>\n",
       "      <td>4517</td>\n",
       "      <td>3414</td>\n",
       "      <td>127.4439</td>\n",
       "    </tr>\n",
       "    <tr>\n",
       "      <th>49</th>\n",
       "      <td>208.9215</td>\n",
       "      <td>7082</td>\n",
       "      <td>940</td>\n",
       "      <td>139.2742</td>\n",
       "    </tr>\n",
       "    <tr>\n",
       "      <th>57</th>\n",
       "      <td>205.4114</td>\n",
       "      <td>4138</td>\n",
       "      <td>3854</td>\n",
       "      <td>134.6419</td>\n",
       "    </tr>\n",
       "  </tbody>\n",
       "</table>\n",
       "</div>"
      ],
      "text/plain": [
       "   ruc_increase missingroutes num_aff_routes   km_diff\n",
       "1      206.1362          7479            586  138.4038\n",
       "9      189.9739          7303            742  128.2452\n",
       "17     215.7126          6377           1618  143.4449\n",
       "25     186.1467          6203           1790  124.9523\n",
       "33     232.2653          4638           3310  152.1786\n",
       "41     192.3801          4517           3414  127.4439\n",
       "49     208.9215          7082            940  139.2742\n",
       "57     205.4114          4138           3854  134.6419"
      ]
     },
     "execution_count": 46,
     "metadata": {},
     "output_type": "execute_result"
    }
   ],
   "source": [
    "select = costs_all.rp==100\n",
    "costs_all.ix[select,[\"ruc_increase\",\"missingroutes\",\"num_aff_routes\",\"km_diff\"]]"
   ]
  },
  {
   "cell_type": "code",
   "execution_count": 31,
   "metadata": {
    "collapsed": true
   },
   "outputs": [],
   "source": [
    "file = \"EU_watch30_Peru_rp100.csv\"\n",
    "scenar = read_csv(datacsv+file)\n",
    "scenar.index = scenar.Name\n",
    "\n",
    "missing_routes = [r not in scenar.Name for r in baseline.Name]"
   ]
  },
  {
   "cell_type": "code",
   "execution_count": 35,
   "metadata": {
    "collapsed": false
   },
   "outputs": [
    {
     "data": {
      "text/plain": [
       "Index(['FacilityID', 'FacilityRa', 'Name', 'IncidentCu', 'FacilityCu',\n",
       "       'IncidentID', 'Total_Ta_r', 'Total_KM', 'Total_Ta_v', 'avg_TPDA', 'O',\n",
       "       'D', 'Ot', 'Dt', 'Opop', 'Dpop', 'weights'],\n",
       "      dtype='object')"
      ]
     },
     "execution_count": 35,
     "metadata": {},
     "output_type": "execute_result"
    }
   ],
   "source": [
    "baseline.columns"
   ]
  },
  {
   "cell_type": "code",
   "execution_count": 49,
   "metadata": {
    "collapsed": false
   },
   "outputs": [],
   "source": [
    "origins = baseline.ix[missing_routes,\"Name\"].apply(lambda s: re.search(\"(.*) - (.*)\",s).group(1))"
   ]
  },
  {
   "cell_type": "code",
   "execution_count": 52,
   "metadata": {
    "collapsed": false
   },
   "outputs": [
    {
     "data": {
      "text/plain": [
       "C208    91\n",
       "A13     91\n",
       "B4      91\n",
       "C164    91\n",
       "B14     91\n",
       "B13     91\n",
       "P3      91\n",
       "B10     91\n",
       "C192    91\n",
       "A4      91\n",
       "A9      91\n",
       "C205    91\n",
       "C216    91\n",
       "A12     90\n",
       "C191    90\n",
       "C209    90\n",
       "C186    90\n",
       "C178    90\n",
       "C210    90\n",
       "B12     90\n",
       "B11     90\n",
       "C213    90\n",
       "C217    90\n",
       "A5      90\n",
       "C190    90\n",
       "A7      90\n",
       "A2      90\n",
       "A3      90\n",
       "A14     90\n",
       "P4      90\n",
       "        ..\n",
       "C203    74\n",
       "C166    74\n",
       "B9      74\n",
       "B8      74\n",
       "C165    74\n",
       "C211    74\n",
       "B5      74\n",
       "B3      74\n",
       "B2      74\n",
       "B1      74\n",
       "C174    71\n",
       "C176    71\n",
       "C171    71\n",
       "C218    71\n",
       "C170    71\n",
       "C207    71\n",
       "C223    71\n",
       "C214    71\n",
       "C221    71\n",
       "A10     71\n",
       "A8      71\n",
       "P2      71\n",
       "C194    71\n",
       "C195    71\n",
       "C198    71\n",
       "C168    71\n",
       "C163    71\n",
       "C167    71\n",
       "C202    71\n",
       "C179    71\n",
       "dtype: int64"
      ]
     },
     "execution_count": 52,
     "metadata": {},
     "output_type": "execute_result"
    }
   ],
   "source": [
    "origins.value_counts()"
   ]
  },
  {
   "cell_type": "code",
   "execution_count": 35,
   "metadata": {
    "collapsed": false
   },
   "outputs": [
    {
     "data": {
      "text/plain": [
       "array(['EU_Watch', 'GFDL', 'HadGEM2', 'IPSL'], dtype=object)"
      ]
     },
     "execution_count": 35,
     "metadata": {},
     "output_type": "execute_result"
    }
   ],
   "source": [
    "costs_all.model.unique()"
   ]
  },
  {
   "cell_type": "code",
   "execution_count": 36,
   "metadata": {
    "collapsed": false
   },
   "outputs": [
    {
     "data": {
      "text/plain": [
       "<matplotlib.collections.PathCollection at 0x941e048>"
      ]
     },
     "execution_count": 36,
     "metadata": {},
     "output_type": "execute_result"
    },
    {
     "data": {
      "image/png": "[encoded data removed]",
      "text/plain": [
       "<matplotlib.figure.Figure at 0x939da20>"
      ]
     },
     "metadata": {},
     "output_type": "display_data"
    }
   ],
   "source": [
    "plt.scatter(costs_all.rp.astype(float),costs_all.missingroutes.astype(float)/len(baseline))"
   ]
  },
  {
   "cell_type": "code",
   "execution_count": 38,
   "metadata": {
    "collapsed": false
   },
   "outputs": [
    {
     "data": {
      "text/html": [
       "<div style=\"max-height:1000px;max-width:1500px;overflow:auto;\">\n",
       "<table border=\"1\" class=\"dataframe\">\n",
       "  <thead>\n",
       "    <tr style=\"text-align: right;\">\n",
       "      <th></th>\n",
       "      <th>ruc_increase</th>\n",
       "      <th>missingroutes</th>\n",
       "      <th>num_aff_routes</th>\n",
       "      <th>cost_with_traffic</th>\n",
       "      <th>km_diff</th>\n",
       "    </tr>\n",
       "  </thead>\n",
       "  <tbody>\n",
       "    <tr>\n",
       "      <th>count</th>\n",
       "      <td>32.000000</td>\n",
       "      <td>32</td>\n",
       "      <td>32.000000</td>\n",
       "      <td>32.000000</td>\n",
       "      <td>32.000000</td>\n",
       "    </tr>\n",
       "    <tr>\n",
       "      <th>mean</th>\n",
       "      <td>314.269719</td>\n",
       "      <td>0</td>\n",
       "      <td>1702.000000</td>\n",
       "      <td>2170346.679329</td>\n",
       "      <td>192.470322</td>\n",
       "    </tr>\n",
       "    <tr>\n",
       "      <th>std</th>\n",
       "      <td>141.259576</td>\n",
       "      <td>0</td>\n",
       "      <td>553.263164</td>\n",
       "      <td>975538.634418</td>\n",
       "      <td>90.850860</td>\n",
       "    </tr>\n",
       "    <tr>\n",
       "      <th>min</th>\n",
       "      <td>0.759992</td>\n",
       "      <td>0</td>\n",
       "      <td>264.000000</td>\n",
       "      <td>5248.506913</td>\n",
       "      <td>-0.001999</td>\n",
       "    </tr>\n",
       "    <tr>\n",
       "      <th>25%</th>\n",
       "      <td>308.861790</td>\n",
       "      <td>0</td>\n",
       "      <td>1874.000000</td>\n",
       "      <td>2132999.518764</td>\n",
       "      <td>178.854094</td>\n",
       "    </tr>\n",
       "    <tr>\n",
       "      <th>50%</th>\n",
       "      <td>390.248743</td>\n",
       "      <td>0</td>\n",
       "      <td>1874.000000</td>\n",
       "      <td>2695057.819656</td>\n",
       "      <td>230.066046</td>\n",
       "    </tr>\n",
       "    <tr>\n",
       "      <th>75%</th>\n",
       "      <td>397.519750</td>\n",
       "      <td>0</td>\n",
       "      <td>1946.000000</td>\n",
       "      <td>2745271.392076</td>\n",
       "      <td>230.978773</td>\n",
       "    </tr>\n",
       "    <tr>\n",
       "      <th>max</th>\n",
       "      <td>402.584307</td>\n",
       "      <td>0</td>\n",
       "      <td>1946.000000</td>\n",
       "      <td>2780247.222557</td>\n",
       "      <td>289.799531</td>\n",
       "    </tr>\n",
       "  </tbody>\n",
       "</table>\n",
       "</div>"
      ],
      "text/plain": [
       "       ruc_increase  missingroutes  num_aff_routes  cost_with_traffic  \\\n",
       "count     32.000000             32       32.000000          32.000000   \n",
       "mean     314.269719              0     1702.000000     2170346.679329   \n",
       "std      141.259576              0      553.263164      975538.634418   \n",
       "min        0.759992              0      264.000000        5248.506913   \n",
       "25%      308.861790              0     1874.000000     2132999.518764   \n",
       "50%      390.248743              0     1874.000000     2695057.819656   \n",
       "75%      397.519750              0     1946.000000     2745271.392076   \n",
       "max      402.584307              0     1946.000000     2780247.222557   \n",
       "\n",
       "          km_diff  \n",
       "count   32.000000  \n",
       "mean   192.470322  \n",
       "std     90.850860  \n",
       "min     -0.001999  \n",
       "25%    178.854094  \n",
       "50%    230.066046  \n",
       "75%    230.978773  \n",
       "max    289.799531  "
      ]
     },
     "execution_count": 38,
     "metadata": {},
     "output_type": "execute_result"
    }
   ],
   "source": [
    "costs_all.ix[costs_all.cluster==\"americana\",\\\n",
    "             [\"ruc_increase\",\"missingroutes\",\"num_aff_routes\",\"cost_with_traffic\",\"km_diff\"]].astype(float).describe()"
   ]
  },
  {
   "cell_type": "code",
   "execution_count": 39,
   "metadata": {
    "collapsed": false
   },
   "outputs": [
    {
     "data": {
      "text/html": [
       "<div style=\"max-height:1000px;max-width:1500px;overflow:auto;\">\n",
       "<table border=\"1\" class=\"dataframe\">\n",
       "  <thead>\n",
       "    <tr style=\"text-align: right;\">\n",
       "      <th></th>\n",
       "      <th>ruc_increase</th>\n",
       "      <th>missingroutes</th>\n",
       "      <th>num_aff_routes</th>\n",
       "      <th>cost_with_traffic</th>\n",
       "      <th>km_diff</th>\n",
       "    </tr>\n",
       "  </thead>\n",
       "  <tbody>\n",
       "    <tr>\n",
       "      <th>count</th>\n",
       "      <td>32.000000</td>\n",
       "      <td>32.000000</td>\n",
       "      <td>32.000000</td>\n",
       "      <td>32.000000</td>\n",
       "      <td>32.000000</td>\n",
       "    </tr>\n",
       "    <tr>\n",
       "      <th>mean</th>\n",
       "      <td>35.655418</td>\n",
       "      <td>275.062500</td>\n",
       "      <td>1523.250000</td>\n",
       "      <td>151357.248917</td>\n",
       "      <td>22.037636</td>\n",
       "    </tr>\n",
       "    <tr>\n",
       "      <th>std</th>\n",
       "      <td>10.722454</td>\n",
       "      <td>101.593414</td>\n",
       "      <td>245.609577</td>\n",
       "      <td>45516.818960</td>\n",
       "      <td>6.102547</td>\n",
       "    </tr>\n",
       "    <tr>\n",
       "      <th>min</th>\n",
       "      <td>10.602469</td>\n",
       "      <td>0.000000</td>\n",
       "      <td>1190.000000</td>\n",
       "      <td>45007.480769</td>\n",
       "      <td>2.843182</td>\n",
       "    </tr>\n",
       "    <tr>\n",
       "      <th>25%</th>\n",
       "      <td>27.479344</td>\n",
       "      <td>180.000000</td>\n",
       "      <td>1252.000000</td>\n",
       "      <td>116649.814486</td>\n",
       "      <td>19.091821</td>\n",
       "    </tr>\n",
       "    <tr>\n",
       "      <th>50%</th>\n",
       "      <td>31.504414</td>\n",
       "      <td>359.000000</td>\n",
       "      <td>1571.000000</td>\n",
       "      <td>133736.236524</td>\n",
       "      <td>19.939834</td>\n",
       "    </tr>\n",
       "    <tr>\n",
       "      <th>75%</th>\n",
       "      <td>42.897966</td>\n",
       "      <td>359.000000</td>\n",
       "      <td>1726.000000</td>\n",
       "      <td>182101.864438</td>\n",
       "      <td>26.169784</td>\n",
       "    </tr>\n",
       "    <tr>\n",
       "      <th>max</th>\n",
       "      <td>65.873022</td>\n",
       "      <td>359.000000</td>\n",
       "      <td>1890.000000</td>\n",
       "      <td>279630.979908</td>\n",
       "      <td>32.620210</td>\n",
       "    </tr>\n",
       "  </tbody>\n",
       "</table>\n",
       "</div>"
      ],
      "text/plain": [
       "       ruc_increase  missingroutes  num_aff_routes  cost_with_traffic  \\\n",
       "count     32.000000      32.000000       32.000000          32.000000   \n",
       "mean      35.655418     275.062500     1523.250000      151357.248917   \n",
       "std       10.722454     101.593414      245.609577       45516.818960   \n",
       "min       10.602469       0.000000     1190.000000       45007.480769   \n",
       "25%       27.479344     180.000000     1252.000000      116649.814486   \n",
       "50%       31.504414     359.000000     1571.000000      133736.236524   \n",
       "75%       42.897966     359.000000     1726.000000      182101.864438   \n",
       "max       65.873022     359.000000     1890.000000      279630.979908   \n",
       "\n",
       "         km_diff  \n",
       "count  32.000000  \n",
       "mean   22.037636  \n",
       "std     6.102547  \n",
       "min     2.843182  \n",
       "25%    19.091821  \n",
       "50%    19.939834  \n",
       "75%    26.169784  \n",
       "max    32.620210  "
      ]
     },
     "execution_count": 39,
     "metadata": {},
     "output_type": "execute_result"
    }
   ],
   "source": [
    "costs_all.ix[costs_all.cluster==\"central\",\\\n",
    "             [\"ruc_increase\",\"missingroutes\",\"num_aff_routes\",\"cost_with_traffic\",\"km_diff\"]].astype(float).describe()"
   ]
  },
  {
   "cell_type": "code",
   "execution_count": 40,
   "metadata": {
    "collapsed": false
   },
   "outputs": [
    {
     "data": {
      "text/html": [
       "<div style=\"max-height:1000px;max-width:1500px;overflow:auto;\">\n",
       "<table border=\"1\" class=\"dataframe\">\n",
       "  <thead>\n",
       "    <tr style=\"text-align: right;\">\n",
       "      <th></th>\n",
       "      <th>ruc_increase</th>\n",
       "      <th>missingroutes</th>\n",
       "      <th>num_aff_routes</th>\n",
       "      <th>cost_with_traffic</th>\n",
       "      <th>km_diff</th>\n",
       "    </tr>\n",
       "  </thead>\n",
       "  <tbody>\n",
       "    <tr>\n",
       "      <th>count</th>\n",
       "      <td>32.000000</td>\n",
       "      <td>32.000000</td>\n",
       "      <td>32.000000</td>\n",
       "      <td>32.000000</td>\n",
       "      <td>32.000000</td>\n",
       "    </tr>\n",
       "    <tr>\n",
       "      <th>mean</th>\n",
       "      <td>124.788318</td>\n",
       "      <td>1015.812500</td>\n",
       "      <td>961.062500</td>\n",
       "      <td>743863.164993</td>\n",
       "      <td>76.565422</td>\n",
       "    </tr>\n",
       "    <tr>\n",
       "      <th>std</th>\n",
       "      <td>195.502448</td>\n",
       "      <td>488.271965</td>\n",
       "      <td>383.575365</td>\n",
       "      <td>1165390.090546</td>\n",
       "      <td>117.778077</td>\n",
       "    </tr>\n",
       "    <tr>\n",
       "      <th>min</th>\n",
       "      <td>0.825384</td>\n",
       "      <td>0.000000</td>\n",
       "      <td>174.000000</td>\n",
       "      <td>4920.116762</td>\n",
       "      <td>-0.110638</td>\n",
       "    </tr>\n",
       "    <tr>\n",
       "      <th>25%</th>\n",
       "      <td>5.294856</td>\n",
       "      <td>860.000000</td>\n",
       "      <td>634.000000</td>\n",
       "      <td>31562.637852</td>\n",
       "      <td>0.165497</td>\n",
       "    </tr>\n",
       "    <tr>\n",
       "      <th>50%</th>\n",
       "      <td>55.649004</td>\n",
       "      <td>1366.000000</td>\n",
       "      <td>828.000000</td>\n",
       "      <td>331723.709879</td>\n",
       "      <td>39.590298</td>\n",
       "    </tr>\n",
       "    <tr>\n",
       "      <th>75%</th>\n",
       "      <td>56.241143</td>\n",
       "      <td>1366.000000</td>\n",
       "      <td>1264.000000</td>\n",
       "      <td>335253.452930</td>\n",
       "      <td>39.590298</td>\n",
       "    </tr>\n",
       "    <tr>\n",
       "      <th>max</th>\n",
       "      <td>521.949188</td>\n",
       "      <td>1366.000000</td>\n",
       "      <td>1788.000000</td>\n",
       "      <td>3111339.109435</td>\n",
       "      <td>314.828905</td>\n",
       "    </tr>\n",
       "  </tbody>\n",
       "</table>\n",
       "</div>"
      ],
      "text/plain": [
       "       ruc_increase  missingroutes  num_aff_routes  cost_with_traffic  \\\n",
       "count     32.000000      32.000000       32.000000          32.000000   \n",
       "mean     124.788318    1015.812500      961.062500      743863.164993   \n",
       "std      195.502448     488.271965      383.575365     1165390.090546   \n",
       "min        0.825384       0.000000      174.000000        4920.116762   \n",
       "25%        5.294856     860.000000      634.000000       31562.637852   \n",
       "50%       55.649004    1366.000000      828.000000      331723.709879   \n",
       "75%       56.241143    1366.000000     1264.000000      335253.452930   \n",
       "max      521.949188    1366.000000     1788.000000     3111339.109435   \n",
       "\n",
       "          km_diff  \n",
       "count   32.000000  \n",
       "mean    76.565422  \n",
       "std    117.778077  \n",
       "min     -0.110638  \n",
       "25%      0.165497  \n",
       "50%     39.590298  \n",
       "75%     39.590298  \n",
       "max    314.828905  "
      ]
     },
     "execution_count": 40,
     "metadata": {},
     "output_type": "execute_result"
    }
   ],
   "source": [
    "costs_all.ix[costs_all.cluster==\"norte\",\\\n",
    "             [\"ruc_increase\",\"missingroutes\",\"num_aff_routes\",\"cost_with_traffic\",\"km_diff\"]].astype(float).describe()"
   ]
  },
  {
   "cell_type": "code",
   "execution_count": 43,
   "metadata": {
    "collapsed": false
   },
   "outputs": [
    {
     "data": {
      "text/html": [
       "<div style=\"max-height:1000px;max-width:1500px;overflow:auto;\">\n",
       "<table border=\"1\" class=\"dataframe\">\n",
       "  <thead>\n",
       "    <tr style=\"text-align: right;\">\n",
       "      <th></th>\n",
       "      <th>model</th>\n",
       "      <th>cluster</th>\n",
       "      <th>rp</th>\n",
       "      <th>ruc_increase</th>\n",
       "      <th>missingroutes</th>\n",
       "      <th>num_aff_routes</th>\n",
       "      <th>cost_with_traffic</th>\n",
       "      <th>km_diff</th>\n",
       "    </tr>\n",
       "  </thead>\n",
       "  <tbody>\n",
       "    <tr>\n",
       "      <th>2</th>\n",
       "      <td>EU_Watch</td>\n",
       "      <td>americana</td>\n",
       "      <td>1000</td>\n",
       "      <td>402.5843</td>\n",
       "      <td>0</td>\n",
       "      <td>1946</td>\n",
       "      <td>2780247</td>\n",
       "      <td>289.7995</td>\n",
       "    </tr>\n",
       "    <tr>\n",
       "      <th>26</th>\n",
       "      <td>GFDL</td>\n",
       "      <td>americana</td>\n",
       "      <td>1000</td>\n",
       "      <td>397.5197</td>\n",
       "      <td>0</td>\n",
       "      <td>1874</td>\n",
       "      <td>2745271</td>\n",
       "      <td>230.9788</td>\n",
       "    </tr>\n",
       "    <tr>\n",
       "      <th>50</th>\n",
       "      <td>HadGEM2</td>\n",
       "      <td>americana</td>\n",
       "      <td>1000</td>\n",
       "      <td>307.9472</td>\n",
       "      <td>0</td>\n",
       "      <td>1946</td>\n",
       "      <td>2126684</td>\n",
       "      <td>178.8447</td>\n",
       "    </tr>\n",
       "    <tr>\n",
       "      <th>74</th>\n",
       "      <td>IPSL</td>\n",
       "      <td>americana</td>\n",
       "      <td>1000</td>\n",
       "      <td>309.6123</td>\n",
       "      <td>0</td>\n",
       "      <td>1946</td>\n",
       "      <td>2138182</td>\n",
       "      <td>178.8572</td>\n",
       "    </tr>\n",
       "  </tbody>\n",
       "</table>\n",
       "</div>"
      ],
      "text/plain": [
       "       model    cluster    rp ruc_increase missingroutes num_aff_routes  \\\n",
       "2   EU_Watch  americana  1000     402.5843             0           1946   \n",
       "26      GFDL  americana  1000     397.5197             0           1874   \n",
       "50   HadGEM2  americana  1000     307.9472             0           1946   \n",
       "74      IPSL  americana  1000     309.6123             0           1946   \n",
       "\n",
       "   cost_with_traffic   km_diff  \n",
       "2            2780247  289.7995  \n",
       "26           2745271  230.9788  \n",
       "50           2126684  178.8447  \n",
       "74           2138182  178.8572  "
      ]
     },
     "execution_count": 43,
     "metadata": {},
     "output_type": "execute_result"
    }
   ],
   "source": [
    "sel = (costs_all.cluster==\"americana\")&(costs_all.rp=='1000')\n",
    "costs_all.ix[sel,:]"
   ]
  },
  {
   "cell_type": "code",
   "execution_count": 44,
   "metadata": {
    "collapsed": false
   },
   "outputs": [
    {
     "data": {
      "text/html": [
       "<div style=\"max-height:1000px;max-width:1500px;overflow:auto;\">\n",
       "<table border=\"1\" class=\"dataframe\">\n",
       "  <thead>\n",
       "    <tr style=\"text-align: right;\">\n",
       "      <th></th>\n",
       "      <th>model</th>\n",
       "      <th>cluster</th>\n",
       "      <th>rp</th>\n",
       "      <th>ruc_increase</th>\n",
       "      <th>missingroutes</th>\n",
       "      <th>num_aff_routes</th>\n",
       "      <th>cost_with_traffic</th>\n",
       "      <th>km_diff</th>\n",
       "    </tr>\n",
       "  </thead>\n",
       "  <tbody>\n",
       "    <tr>\n",
       "      <th>10</th>\n",
       "      <td>EU_Watch</td>\n",
       "      <td>central</td>\n",
       "      <td>1000</td>\n",
       "      <td>47.75862</td>\n",
       "      <td>359</td>\n",
       "      <td>1726</td>\n",
       "      <td>202735.3</td>\n",
       "      <td>29.82124</td>\n",
       "    </tr>\n",
       "    <tr>\n",
       "      <th>34</th>\n",
       "      <td>GFDL</td>\n",
       "      <td>central</td>\n",
       "      <td>1000</td>\n",
       "      <td>47.75862</td>\n",
       "      <td>359</td>\n",
       "      <td>1726</td>\n",
       "      <td>202735.3</td>\n",
       "      <td>29.82124</td>\n",
       "    </tr>\n",
       "    <tr>\n",
       "      <th>58</th>\n",
       "      <td>HadGEM2</td>\n",
       "      <td>central</td>\n",
       "      <td>1000</td>\n",
       "      <td>29.89781</td>\n",
       "      <td>359</td>\n",
       "      <td>1252</td>\n",
       "      <td>126916.2</td>\n",
       "      <td>22.56172</td>\n",
       "    </tr>\n",
       "    <tr>\n",
       "      <th>82</th>\n",
       "      <td>IPSL</td>\n",
       "      <td>central</td>\n",
       "      <td>1000</td>\n",
       "      <td>31.55837</td>\n",
       "      <td>359</td>\n",
       "      <td>1726</td>\n",
       "      <td>133965.3</td>\n",
       "      <td>19.74644</td>\n",
       "    </tr>\n",
       "  </tbody>\n",
       "</table>\n",
       "</div>"
      ],
      "text/plain": [
       "       model  cluster    rp ruc_increase missingroutes num_aff_routes  \\\n",
       "10  EU_Watch  central  1000     47.75862           359           1726   \n",
       "34      GFDL  central  1000     47.75862           359           1726   \n",
       "58   HadGEM2  central  1000     29.89781           359           1252   \n",
       "82      IPSL  central  1000     31.55837           359           1726   \n",
       "\n",
       "   cost_with_traffic   km_diff  \n",
       "10          202735.3  29.82124  \n",
       "34          202735.3  29.82124  \n",
       "58          126916.2  22.56172  \n",
       "82          133965.3  19.74644  "
      ]
     },
     "execution_count": 44,
     "metadata": {},
     "output_type": "execute_result"
    }
   ],
   "source": [
    "sel = (costs_all.cluster==\"central\")&(costs_all.rp=='1000')\n",
    "costs_all.ix[sel,:]"
   ]
  },
  {
   "cell_type": "code",
   "execution_count": 45,
   "metadata": {
    "collapsed": false
   },
   "outputs": [
    {
     "data": {
      "text/html": [
       "<div style=\"max-height:1000px;max-width:1500px;overflow:auto;\">\n",
       "<table border=\"1\" class=\"dataframe\">\n",
       "  <thead>\n",
       "    <tr style=\"text-align: right;\">\n",
       "      <th></th>\n",
       "      <th>model</th>\n",
       "      <th>cluster</th>\n",
       "      <th>rp</th>\n",
       "      <th>ruc_increase</th>\n",
       "      <th>missingroutes</th>\n",
       "      <th>num_aff_routes</th>\n",
       "      <th>cost_with_traffic</th>\n",
       "      <th>km_diff</th>\n",
       "    </tr>\n",
       "  </thead>\n",
       "  <tbody>\n",
       "    <tr>\n",
       "      <th>18</th>\n",
       "      <td>EU_Watch</td>\n",
       "      <td>norte</td>\n",
       "      <td>1000</td>\n",
       "      <td>521.9492</td>\n",
       "      <td>1366</td>\n",
       "      <td>1264</td>\n",
       "      <td>3111339</td>\n",
       "      <td>314.8289</td>\n",
       "    </tr>\n",
       "    <tr>\n",
       "      <th>42</th>\n",
       "      <td>GFDL</td>\n",
       "      <td>norte</td>\n",
       "      <td>1000</td>\n",
       "      <td>55.649</td>\n",
       "      <td>1366</td>\n",
       "      <td>634</td>\n",
       "      <td>331723.7</td>\n",
       "      <td>39.5903</td>\n",
       "    </tr>\n",
       "    <tr>\n",
       "      <th>66</th>\n",
       "      <td>HadGEM2</td>\n",
       "      <td>norte</td>\n",
       "      <td>1000</td>\n",
       "      <td>56.24114</td>\n",
       "      <td>1366</td>\n",
       "      <td>634</td>\n",
       "      <td>335253.5</td>\n",
       "      <td>39.5903</td>\n",
       "    </tr>\n",
       "    <tr>\n",
       "      <th>90</th>\n",
       "      <td>IPSL</td>\n",
       "      <td>norte</td>\n",
       "      <td>1000</td>\n",
       "      <td>43.1723</td>\n",
       "      <td>1031</td>\n",
       "      <td>772</td>\n",
       "      <td>257350.1</td>\n",
       "      <td>29.14604</td>\n",
       "    </tr>\n",
       "  </tbody>\n",
       "</table>\n",
       "</div>"
      ],
      "text/plain": [
       "       model cluster    rp ruc_increase missingroutes num_aff_routes  \\\n",
       "18  EU_Watch   norte  1000     521.9492          1366           1264   \n",
       "42      GFDL   norte  1000       55.649          1366            634   \n",
       "66   HadGEM2   norte  1000     56.24114          1366            634   \n",
       "90      IPSL   norte  1000      43.1723          1031            772   \n",
       "\n",
       "   cost_with_traffic   km_diff  \n",
       "18           3111339  314.8289  \n",
       "42          331723.7   39.5903  \n",
       "66          335253.5   39.5903  \n",
       "90          257350.1  29.14604  "
      ]
     },
     "execution_count": 45,
     "metadata": {},
     "output_type": "execute_result"
    }
   ],
   "source": [
    "sel = (costs_all.cluster==\"norte\")&(costs_all.rp=='1000')\n",
    "costs_all.ix[sel,:]"
   ]
  },
  {
   "cell_type": "code",
   "execution_count": null,
   "metadata": {
    "collapsed": true
   },
   "outputs": [],
   "source": []
  }
 ],
 "metadata": {
  "kernelspec": {
   "display_name": "Python 3",
   "language": "python",
   "name": "python3"
  },
  "language_info": {
   "codemirror_mode": {
    "name": "ipython",
    "version": 3
   },
   "file_extension": ".py",
   "mimetype": "text/x-python",
   "name": "python",
   "nbconvert_exporter": "python",
   "pygments_lexer": "ipython3",
   "version": "3.3.5"
  }
 },
 "nbformat": 4,
 "nbformat_minor": 0
}
